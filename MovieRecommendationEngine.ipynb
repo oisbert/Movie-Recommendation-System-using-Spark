{
 "cells": [
  {
   "cell_type": "code",
   "execution_count": 1,
   "id": "0695cded",
   "metadata": {},
   "outputs": [],
   "source": [
    "import findspark\n",
    "findspark.init()"
   ]
  },
  {
   "cell_type": "code",
   "execution_count": 2,
   "id": "e4192cbf",
   "metadata": {},
   "outputs": [
    {
     "name": "stdout",
     "output_type": "stream",
     "text": [
      "Looks like you've already rated the movies. Overwrite ratings (y/N)? y\n",
      "Please rate the following movie (1-5 (best), or 0 if not seen): \n",
      "1,Toy Story (1995)\n",
      "780,Independence Day (a.k.a. ID4) (1996)\n",
      "590,Dances with Wolves (1990)\n",
      "1210,Star Wars: Episode VI - Return of the Jedi (1983)\n",
      "648,Mission: Impossible (1996)\n",
      "344,Ace Ventura: Pet Detective (1994)\n",
      "165,Die Hard: With a Vengeance (1995)\n",
      "153,Batman Forever (1995)\n",
      "597,Pretty Woman (1990)\n",
      "1580,Men in Black (1997)\n",
      "231,Dumb & Dumber (1994)\n",
      "Toy Story (1995): 2\n",
      "Independence Day (a.k.a. ID4) (1996): 3\n",
      "Dances with Wolves (1990): 4\n",
      "Star Wars: Episode VI - Return of the Jedi (1983): 3\n",
      "Mission: Impossible (1996): 2\n",
      "Ace Ventura: Pet Detective (1994): 3\n",
      "Die Hard: With a Vengeance (1995): 2\n",
      "Batman Forever (1995): 3\n",
      "Pretty Woman (1990): 2\n",
      "Men in Black (1997): 3\n",
      "Dumb & Dumber (1994): 2\n"
     ]
    }
   ],
   "source": [
    "import sys\n",
    "import os\n",
    "from time import time\n",
    "\n",
    "import sys\n",
    "import itertools\n",
    "from math import sqrt\n",
    "from operator import add\n",
    "from os.path import join, isfile, dirname\n",
    "\n",
    "from pyspark.sql import SparkSession\n",
    "from pyspark.mllib.recommendation import ALS\n",
    "\n",
    "topMovies = \"\"\"1,Toy Story (1995)\n",
    "780,Independence Day (a.k.a. ID4) (1996)\n",
    "590,Dances with Wolves (1990)\n",
    "1210,Star Wars: Episode VI - Return of the Jedi (1983)\n",
    "648,Mission: Impossible (1996)\n",
    "344,Ace Ventura: Pet Detective (1994)\n",
    "165,Die Hard: With a Vengeance (1995)\n",
    "153,Batman Forever (1995)\n",
    "597,Pretty Woman (1990)\n",
    "1580,Men in Black (1997)\n",
    "231,Dumb & Dumber (1994)\"\"\"\n",
    "\n",
    "parentDir = os.path.abspath('')\n",
    "ratingsFile = join(parentDir, \"personalRatings.txt\")\n",
    "\n",
    "if isfile(ratingsFile):\n",
    "    r = input(\"Looks like you've already rated the movies. Overwrite ratings (y/N)? \")\n",
    "    if r and r[0].lower() == \"y\":\n",
    "        #remove(ratingsFile)\n",
    "        a_file = open(ratingsFile, \"w\")\n",
    "        a_file.truncate()\n",
    "        a_file.close()\n",
    "    else:\n",
    "        sys.exit()\n",
    "\n",
    "prompt = \"Please rate the following movie (1-5 (best), or 0 if not seen): \"\n",
    "print(prompt)\n",
    "print(topMovies)\n",
    "\n",
    "now = int(time())\n",
    "n = 0\n",
    "\n",
    "f = open(ratingsFile, 'w')\n",
    "for line in topMovies.split(\"\\n\"):\n",
    "    ls = line.strip().split(\",\")\n",
    "    valid = False\n",
    "    while not valid:\n",
    "        rStr = input(ls[1] + \": \")\n",
    "        r = int(rStr) if rStr.isdigit() else -1\n",
    "        if r < 0 or r > 5:\n",
    "            print(prompt)\n",
    "        else:\n",
    "            valid = True\n",
    "            if r > 0:\n",
    "                f.write(\"0::%s::%d::%d\\n\" % (ls[0], r, now))\n",
    "                n += 1\n",
    "f.close()\n",
    "\n",
    "if n == 0:\n",
    "    print(\"No rating provided!\")"
   ]
  },
  {
   "cell_type": "code",
   "execution_count": 4,
   "id": "22a8ac68",
   "metadata": {},
   "outputs": [],
   "source": [
    "from pyspark.sql import SQLContext, Row\n",
    "from pyspark.sql.functions import col\n",
    "\n",
    "def parseRating(line):\n",
    "    \"\"\"\n",
    "    Parses a rating record in MovieLens format userId::movieId::rating::timestamp .\n",
    "    \"\"\"\n",
    "    fields = line.strip().split(\"::\")\n",
    "    return int(fields[3]) % 10, (int(fields[0]), int(fields[1]), float(fields[2]))\n",
    "\n",
    "#Created a second parseRating for rating as the field three was causing issues with the rdd to dataframe conversion\n",
    "def parseRating2(line):\n",
    "    \"\"\"\n",
    "    Parses a rating record in MovieLens format userId::movieId::rating::timestamp .\n",
    "    \"\"\"\n",
    "    fields = line.strip().split(\"::\")\n",
    "    return int(fields[0]) , int(fields[1]), int(fields[2]), float(fields[3])\n",
    "\n",
    "\n",
    "def parseMovie(line):\n",
    "    \"\"\"\n",
    "    Parses a movie record in MovieLens format movieId::movieTitle .\n",
    "    \"\"\"\n",
    "    fields = line.strip().split(\"::\")\n",
    "    return int(fields[0]), str(fields[1]),str(fields[2])\n",
    "\n",
    "def loadRatings(ratingsFile):\n",
    "    \"\"\"\n",
    "    Load ratings from file.\n",
    "    \"\"\"\n",
    "    if not isfile(ratingsFile):\n",
    "        print(\"File %s does not exist.\" % ratingsFile)\n",
    "        sys.exit(1)\n",
    "    f = open(ratingsFile, 'r')\n",
    "    ratings = filter(lambda r: r[2] > 0, [parseRating(line)[1] for line in f])\n",
    "    f.close()\n",
    "    if not ratings:\n",
    "        print(\"No ratings provided.\")\n",
    "        sys.exit(1)\n",
    "    else:\n",
    "        return ratings\n",
    "\n",
    "def computeRmse(model, data, n):\n",
    "    \"\"\"\n",
    "    Compute RMSE (Root Mean Squared Error).\n",
    "    \"\"\"\n",
    "    predictions = model.predictAll(data.map(lambda x: (x[0], x[1])))\n",
    "    predictionsAndRatings = predictions.map(lambda x: ((x[0], x[1]), x[2])) \\\n",
    "      .join(data.map(lambda x: ((x[0], x[1]), x[2]))) \\\n",
    "      .values()\n",
    "    return sqrt(predictionsAndRatings.map(lambda x: (x[0] - x[1]) ** 2).reduce(add) / float(n))\n",
    "\n",
    "if __name__ == \"__main__\":\n",
    "    \n",
    "    from pyspark.sql import SparkSession\n",
    "    # Build the SparkSession\n",
    "    \n",
    "    spark = SparkSession.builder \\\n",
    "    .master(\"local\") \\\n",
    "    .appName(\"Movie Recommendation Engine\") \\\n",
    "    .config(\"spark.executor.memory\", \"1gb\") \\\n",
    "    .getOrCreate()\n",
    "   \n",
    "    sc = spark.sparkContext\n",
    "    # load personal ratings\n",
    "    myRatings = loadRatings(os.path.abspath('./personalRatings.txt'))\n",
    "    myRatingsRDD = sc.parallelize(myRatings)\n",
    "    \n",
    "    # load ratings and movie titles\n",
    "\n",
    "    movieLensHomeDir = os.path.abspath('.')\n",
    "\n",
    "    # ratings is an RDD of (last digit of timestamp, (userId, movieId, rating))\n",
    "    ratings = list(sc.textFile(join(movieLensHomeDir, \"ratings.dat\")).map(parseRating2).collect())\n",
    "    RatingsRDD = sc.parallelize(ratings)\n",
    "    \n",
    "    \n",
    "    # movies is an RDD of (movieId, movieTitle)\n",
    "    movies = list(sc.textFile(join(movieLensHomeDir, \"movies.dat\")).map(parseMovie).collect())\n",
    "    moviesStorage = sc.parallelize(movies)"
   ]
  },
  {
   "cell_type": "markdown",
   "id": "b5e58f3a",
   "metadata": {},
   "source": [
    "<h1>Data Exploration<h1>"
   ]
  },
  {
   "cell_type": "code",
   "execution_count": 5,
   "id": "b7c3022b",
   "metadata": {},
   "outputs": [
    {
     "data": {
      "text/plain": [
       "[(1, 'Toy Story (1995)', \"Animation|Children's|Comedy\"),\n",
       " (2, 'Jumanji (1995)', \"Adventure|Children's|Fantasy\"),\n",
       " (3, 'Grumpier Old Men (1995)', 'Comedy|Romance')]"
      ]
     },
     "execution_count": 5,
     "metadata": {},
     "output_type": "execute_result"
    }
   ],
   "source": [
    "#examine the data make sure rdd has been correctly implemented\n",
    "moviesStorage.take(3)"
   ]
  },
  {
   "cell_type": "code",
   "execution_count": 6,
   "id": "420a800e",
   "metadata": {},
   "outputs": [
    {
     "data": {
      "text/plain": [
       "[(1, 1193, 5, 978300760.0), (1, 661, 3, 978302109.0), (1, 914, 3, 978301968.0)]"
      ]
     },
     "execution_count": 6,
     "metadata": {},
     "output_type": "execute_result"
    }
   ],
   "source": [
    "RatingsRDD.take(3)"
   ]
  },
  {
   "cell_type": "code",
   "execution_count": 7,
   "id": "1376fa38",
   "metadata": {},
   "outputs": [
    {
     "data": {
      "text/plain": [
       "[(0, 1, 2.0), (0, 780, 3.0), (0, 590, 4.0)]"
      ]
     },
     "execution_count": 7,
     "metadata": {},
     "output_type": "execute_result"
    }
   ],
   "source": [
    "myRatingsRDD.take(3)"
   ]
  },
  {
   "cell_type": "code",
   "execution_count": 8,
   "id": "3f9cb216",
   "metadata": {},
   "outputs": [],
   "source": [
    "#Covert all RDD's to dataframes\n",
    "    \n",
    "#dataframe of ratings from personal file\n",
    "from pyspark.sql import SQLContext, Row\n",
    "myratingsDF = myRatingsRDD.map(lambda line: Row(UserID=line[0],  \n",
    "                                                MovieID=line[1],\n",
    "                                                Rating=line[2])).toDF()\n",
    "    \n",
    "    #dataframe of movies\n",
    "moviesDF = moviesStorage.map(lambda line: Row(MovieID=line[0],\n",
    "                                             Title=line[1],\n",
    "                                             Genres=line[2])).toDF()\n",
    "    #dataframe of ratings from user\n",
    "ratingsDF = RatingsRDD.map(lambda line: Row(UserID=line[0],\n",
    "                                         MovieID=line[1],\n",
    "                                         Rating=line[2])).toDF()"
   ]
  },
  {
   "cell_type": "code",
   "execution_count": 9,
   "id": "7b0b836e",
   "metadata": {},
   "outputs": [
    {
     "name": "stdout",
     "output_type": "stream",
     "text": [
      "+------+-------+------+\n",
      "|UserID|MovieID|Rating|\n",
      "+------+-------+------+\n",
      "|     0|      1|   2.0|\n",
      "|     0|    780|   3.0|\n",
      "|     0|    590|   4.0|\n",
      "|     0|   1210|   3.0|\n",
      "|     0|    648|   2.0|\n",
      "|     0|    344|   3.0|\n",
      "|     0|    165|   2.0|\n",
      "|     0|    153|   3.0|\n",
      "|     0|    597|   2.0|\n",
      "|     0|   1580|   3.0|\n",
      "|     0|    231|   2.0|\n",
      "+------+-------+------+\n",
      "\n",
      "+-------+--------------------+--------------------+\n",
      "|MovieID|               Title|              Genres|\n",
      "+-------+--------------------+--------------------+\n",
      "|      1|    Toy Story (1995)|Animation|Childre...|\n",
      "|      2|      Jumanji (1995)|Adventure|Childre...|\n",
      "|      3|Grumpier Old Men ...|      Comedy|Romance|\n",
      "|      4|Waiting to Exhale...|        Comedy|Drama|\n",
      "|      5|Father of the Bri...|              Comedy|\n",
      "|      6|         Heat (1995)|Action|Crime|Thri...|\n",
      "|      7|      Sabrina (1995)|      Comedy|Romance|\n",
      "|      8| Tom and Huck (1995)|Adventure|Children's|\n",
      "|      9| Sudden Death (1995)|              Action|\n",
      "|     10|    GoldenEye (1995)|Action|Adventure|...|\n",
      "|     11|American Presiden...|Comedy|Drama|Romance|\n",
      "|     12|Dracula: Dead and...|       Comedy|Horror|\n",
      "|     13|        Balto (1995)|Animation|Children's|\n",
      "|     14|        Nixon (1995)|               Drama|\n",
      "|     15|Cutthroat Island ...|Action|Adventure|...|\n",
      "|     16|       Casino (1995)|      Drama|Thriller|\n",
      "|     17|Sense and Sensibi...|       Drama|Romance|\n",
      "|     18|   Four Rooms (1995)|            Thriller|\n",
      "|     19|Ace Ventura: When...|              Comedy|\n",
      "|     20|  Money Train (1995)|              Action|\n",
      "+-------+--------------------+--------------------+\n",
      "only showing top 20 rows\n",
      "\n",
      "+------+-------+------+\n",
      "|UserID|MovieID|Rating|\n",
      "+------+-------+------+\n",
      "|     1|   1193|     5|\n",
      "|     1|    661|     3|\n",
      "|     1|    914|     3|\n",
      "|     1|   3408|     4|\n",
      "|     1|   2355|     5|\n",
      "|     1|   1197|     3|\n",
      "|     1|   1287|     5|\n",
      "|     1|   2804|     5|\n",
      "|     1|    594|     4|\n",
      "|     1|    919|     4|\n",
      "|     1|    595|     5|\n",
      "|     1|    938|     4|\n",
      "|     1|   2398|     4|\n",
      "|     1|   2918|     4|\n",
      "|     1|   1035|     5|\n",
      "|     1|   2791|     4|\n",
      "|     1|   2687|     3|\n",
      "|     1|   2018|     4|\n",
      "|     1|   3105|     5|\n",
      "|     1|   2797|     4|\n",
      "+------+-------+------+\n",
      "only showing top 20 rows\n",
      "\n"
     ]
    }
   ],
   "source": [
    "#check the results\n",
    "myratingsDF.show()\n",
    "moviesDF.show()\n",
    "ratingsDF.show()"
   ]
  },
  {
   "cell_type": "markdown",
   "id": "078e5b5b",
   "metadata": {},
   "source": [
    "<h1>Data Preprocessing </h1>"
   ]
  },
  {
   "cell_type": "code",
   "execution_count": 10,
   "id": "67407c46",
   "metadata": {},
   "outputs": [
    {
     "name": "stdout",
     "output_type": "stream",
     "text": [
      "root\n",
      " |-- UserID: long (nullable = true)\n",
      " |-- MovieID: long (nullable = true)\n",
      " |-- Rating: double (nullable = true)\n",
      "\n",
      "root\n",
      " |-- MovieID: long (nullable = true)\n",
      " |-- Title: string (nullable = true)\n",
      " |-- Genres: string (nullable = true)\n",
      "\n",
      "root\n",
      " |-- UserID: long (nullable = true)\n",
      " |-- MovieID: long (nullable = true)\n",
      " |-- Rating: long (nullable = true)\n",
      "\n"
     ]
    }
   ],
   "source": [
    "#examine the data for any errors and spot necessary data for the ALS algorithm\n",
    "\n",
    "#print the schemas to examine coloumn types\n",
    "myratingsDF.printSchema()\n",
    "moviesDF.printSchema()\n",
    "ratingsDF.printSchema()"
   ]
  },
  {
   "cell_type": "code",
   "execution_count": 11,
   "id": "05957d7d",
   "metadata": {},
   "outputs": [],
   "source": [
    "#join the myratingsDF with the user ratings table. This will allow algorithm to perform collaborative filtering on my movies\n",
    "\n",
    "allRatingsDF = myratingsDF.union(ratingsDF)"
   ]
  },
  {
   "cell_type": "code",
   "execution_count": 12,
   "id": "c92b8bfd",
   "metadata": {
    "scrolled": true
   },
   "outputs": [
    {
     "name": "stdout",
     "output_type": "stream",
     "text": [
      "+------+-------+------+\n",
      "|UserID|MovieID|Rating|\n",
      "+------+-------+------+\n",
      "|     0|      1|   2.0|\n",
      "|     0|    780|   3.0|\n",
      "|     0|    590|   4.0|\n",
      "|     0|   1210|   3.0|\n",
      "|     0|    648|   2.0|\n",
      "|     0|    344|   3.0|\n",
      "|     0|    165|   2.0|\n",
      "|     0|    153|   3.0|\n",
      "|     0|    597|   2.0|\n",
      "|     0|   1580|   3.0|\n",
      "|     0|    231|   2.0|\n",
      "|     1|   1193|   5.0|\n",
      "|     1|    661|   3.0|\n",
      "|     1|    914|   3.0|\n",
      "|     1|   3408|   4.0|\n",
      "|     1|   2355|   5.0|\n",
      "|     1|   1197|   3.0|\n",
      "|     1|   1287|   5.0|\n",
      "|     1|   2804|   5.0|\n",
      "|     1|    594|   4.0|\n",
      "+------+-------+------+\n",
      "only showing top 20 rows\n",
      "\n"
     ]
    }
   ],
   "source": [
    "#check if the join was successful if user id 0 is in the table the operation has worked\n",
    "\n",
    "allRatingsDF.show()"
   ]
  },
  {
   "cell_type": "code",
   "execution_count": 13,
   "id": "a6a2f946",
   "metadata": {},
   "outputs": [
    {
     "name": "stdout",
     "output_type": "stream",
     "text": [
      "0\n"
     ]
    }
   ],
   "source": [
    "#check for missing data \n",
    "\n",
    "MissingData = allRatingsDF.dropDuplicates().dropna(\n",
    "    how='any', subset=['UserID','MovieID','Rating'])\n",
    "    \n",
    "numberOfmissingData = allRatingsDF.count() - MissingData.count()\n",
    "print(numberOfmissingData) #there is 0 missing data no further action needed "
   ]
  },
  {
   "cell_type": "code",
   "execution_count": 14,
   "id": "6e42efb8",
   "metadata": {
    "scrolled": true
   },
   "outputs": [
    {
     "name": "stdout",
     "output_type": "stream",
     "text": [
      "1000220\n",
      "1000220\n"
     ]
    }
   ],
   "source": [
    "#check data for duplicates\n",
    "\n",
    "countOrignalData = allRatingsDF.count() #count up all original data files\n",
    "countDuplicatedData = allRatingsDF.dropDuplicates().count() #drop any duplicates from the data and count\n",
    "    \n",
    "print(countOrignalData)\n",
    "print(countDuplicatedData) #no duplicates in the data set as the numbers still match"
   ]
  },
  {
   "cell_type": "markdown",
   "id": "c4ac012e",
   "metadata": {},
   "source": [
    "<h1>Standardization</h1>"
   ]
  },
  {
   "cell_type": "code",
   "execution_count": 15,
   "id": "02fe6d93",
   "metadata": {
    "scrolled": false
   },
   "outputs": [
    {
     "name": "stdout",
     "output_type": "stream",
     "text": [
      "Before Scaling :\n",
      "+------+-------+------+\n",
      "|UserID|MovieID|Rating|\n",
      "+------+-------+------+\n",
      "|     0|      1|   2.0|\n",
      "|     0|    780|   3.0|\n",
      "|     0|    590|   4.0|\n",
      "|     0|   1210|   3.0|\n",
      "|     0|    648|   2.0|\n",
      "+------+-------+------+\n",
      "only showing top 5 rows\n",
      "\n",
      "After Scaling :\n",
      "+------+-------+------+-------------+\n",
      "|UserID|MovieID|Rating|Rating_Scaled|\n",
      "+------+-------+------+-------------+\n",
      "|     0|      1|   2.0|         0.25|\n",
      "|     0|    780|   3.0|          0.5|\n",
      "|     0|    590|   4.0|         0.75|\n",
      "|     0|   1210|   3.0|          0.5|\n",
      "|     0|    648|   2.0|         0.25|\n",
      "+------+-------+------+-------------+\n",
      "only showing top 5 rows\n",
      "\n"
     ]
    }
   ],
   "source": [
    "#the following code scales the values between 0-1 to improve the machine learning models performance\n",
    "\n",
    "print(\"Before Scaling :\") #before conversion\n",
    "allRatingsDF.show(5)\n",
    "\n",
    "from pyspark.ml.feature import MinMaxScaler\n",
    "from pyspark.ml.feature import VectorAssembler\n",
    "from pyspark.ml import Pipeline\n",
    "from pyspark.sql.functions import udf\n",
    "from pyspark.sql.types import DoubleType\n",
    "\n",
    "# UDF for converting column type from vector to double type\n",
    "unlist = udf(lambda x: round(float(list(x)[0]),3), DoubleType())\n",
    "\n",
    "# Iterating over ratings to be scaled\n",
    "for i in [\"Rating\"]:\n",
    "    # VectorAssembler Transformation - Converting column to vector type\n",
    "    assembler = VectorAssembler(inputCols=[i],outputCol=i+\"_Vect\")\n",
    "\n",
    "    # MinMaxScaler Transformation\n",
    "    scaler = MinMaxScaler(inputCol=i+\"_Vect\", outputCol=i+\"_Scaled\")\n",
    "\n",
    "    # Pipeline of VectorAssembler and MinMaxScaler\n",
    "    pipeline = Pipeline(stages=[assembler, scaler])\n",
    "\n",
    "    # Fit pipeline on dataframe\n",
    "    allRatingsDF = pipeline.fit(allRatingsDF).transform(allRatingsDF).withColumn(i+\"_Scaled\", unlist(i+\"_Scaled\")).drop(i+\"_Vect\")\n",
    "\n",
    "print(\"After Scaling :\") #after conversion\n",
    "allRatingsDF.show(5)"
   ]
  },
  {
   "cell_type": "code",
   "execution_count": 16,
   "id": "62ae3859",
   "metadata": {},
   "outputs": [
    {
     "name": "stdout",
     "output_type": "stream",
     "text": [
      "+------+-------+------+\n",
      "|UserID|MovieID|Rating|\n",
      "+------+-------+------+\n",
      "|     0|      1|  0.25|\n",
      "|     0|    780|   0.5|\n",
      "|     0|    590|  0.75|\n",
      "|     0|   1210|   0.5|\n",
      "|     0|    648|  0.25|\n",
      "|     0|    344|   0.5|\n",
      "|     0|    165|  0.25|\n",
      "|     0|    153|   0.5|\n",
      "|     0|    597|  0.25|\n",
      "|     0|   1580|   0.5|\n",
      "|     0|    231|  0.25|\n",
      "|     1|   1193|   1.0|\n",
      "|     1|    661|   0.5|\n",
      "|     1|    914|   0.5|\n",
      "|     1|   3408|  0.75|\n",
      "|     1|   2355|   1.0|\n",
      "|     1|   1197|   0.5|\n",
      "|     1|   1287|   1.0|\n",
      "|     1|   2804|   1.0|\n",
      "|     1|    594|  0.75|\n",
      "+------+-------+------+\n",
      "only showing top 20 rows\n",
      "\n"
     ]
    }
   ],
   "source": [
    "dfdrop = allRatingsDF.drop('Rating') #drop the old rating column\n",
    "allRatingsDF = dfdrop.withColumnRenamed(\"Rating_Scaled\",\"Rating\") #rename the scaled column to rating\n",
    "allRatingsDF.show()"
   ]
  },
  {
   "cell_type": "markdown",
   "id": "d9af3cfb",
   "metadata": {},
   "source": [
    "<h1>Movie Recommendation Algorithm (ALS)</h1>"
   ]
  },
  {
   "cell_type": "code",
   "execution_count": 17,
   "id": "8443ee0d",
   "metadata": {},
   "outputs": [],
   "source": [
    "from pyspark.ml.recommendation import ALS\n",
    "from pyspark.ml.evaluation import RegressionEvaluator \n",
    "from pyspark.ml.tuning import ParamGridBuilder, TrainValidationSplit\n",
    "\n",
    "\n",
    "#data split 0.8-0.2\n",
    "train_data, test_data = allRatingsDF.randomSplit([0.8, 0.2])\n",
    "\n",
    "# Build the recommendation model using ALS on the training data\n",
    "#iteration = 10, regularization parameter = 0.05 , \n",
    "#rank is imported as it defines the hidden values such as sex, gender and income\n",
    "als = ALS(maxIter=10, regParam=0.05,userCol='UserID',rank = 3, itemCol='MovieID', ratingCol='Rating', coldStartStrategy=\"drop\", nonnegative = True)\n",
    "\n",
    "#fit the training data to the model\n",
    "model = als.fit(train_data)"
   ]
  },
  {
   "cell_type": "code",
   "execution_count": 18,
   "id": "58c68c62",
   "metadata": {},
   "outputs": [],
   "source": [
    "prediction = model.transform(test_data) #tranform model"
   ]
  },
  {
   "cell_type": "code",
   "execution_count": 19,
   "id": "60ef9f4c",
   "metadata": {
    "scrolled": true
   },
   "outputs": [
    {
     "name": "stdout",
     "output_type": "stream",
     "text": [
      "+------+-------+------+----------+\n",
      "|UserID|MovieID|Rating|prediction|\n",
      "+------+-------+------+----------+\n",
      "|  4169|    148|   0.5| 0.4941019|\n",
      "|  5333|    148|   0.5|0.39152807|\n",
      "|  4387|    148|   0.0| 0.3419803|\n",
      "|   482|    148|  0.25|0.40790772|\n",
      "|  3829|    148|  0.25| 0.3979937|\n",
      "|  4858|    463|   0.5|0.41530326|\n",
      "|  3328|    463|  0.75|0.46033332|\n",
      "|  4277|    463|  0.75| 0.5164586|\n",
      "|   202|    463|   0.5|0.41611063|\n",
      "|  5795|    463|   0.0|0.32072073|\n",
      "|  1962|    463|   0.5|0.30541745|\n",
      "|   392|    471|  0.75|0.60837865|\n",
      "|   516|    471|  0.25|  0.464225|\n",
      "|   588|    471|  0.75| 0.6749089|\n",
      "|  5847|    471|  0.75| 0.6936333|\n",
      "|  5178|    471|  0.75|  0.655625|\n",
      "|  1496|    471|  0.25|0.52126634|\n",
      "|  1243|    471|   0.5|  0.620561|\n",
      "|  5841|    471|   0.5| 0.7037088|\n",
      "|  2168|    471|   1.0|0.71343344|\n",
      "|  3519|    471|  0.75|  0.513861|\n",
      "|  1125|    471|   0.5| 0.5343544|\n",
      "|  2042|    471|  0.25|0.54307103|\n",
      "|  2414|    471|  0.75| 0.6783346|\n",
      "|  2724|    471|   0.5|0.65997326|\n",
      "|  5786|    471|  0.75| 0.6181072|\n",
      "|   671|    471|   1.0| 0.6782354|\n",
      "|  3029|    471|   1.0| 0.6986184|\n",
      "|  2054|    471|   0.5| 0.5871814|\n",
      "|  3648|    471|  0.25|0.49064654|\n",
      "+------+-------+------+----------+\n",
      "only showing top 30 rows\n",
      "\n"
     ]
    }
   ],
   "source": [
    "prediction.show(30) #we can compare our prediction rating with our actual ratings here...Results are pretty decent"
   ]
  },
  {
   "cell_type": "code",
   "execution_count": 20,
   "id": "2322a1b1",
   "metadata": {},
   "outputs": [
    {
     "name": "stdout",
     "output_type": "stream",
     "text": [
      "0.0525719833437006\n"
     ]
    }
   ],
   "source": [
    "from pyspark.ml.evaluation import RegressionEvaluator\n",
    "\n",
    "evaluator = RegressionEvaluator(metricName=\"mse\", labelCol=\"Rating\",  predictionCol=\"prediction\")\n",
    "mse = evaluator.evaluate(prediction)\n",
    "print(mse) #calculate the mean squared error //how close a regression line is to a set of points \n",
    "#lower the mse the better the prediction"
   ]
  },
  {
   "cell_type": "code",
   "execution_count": 21,
   "id": "d1ebf4de",
   "metadata": {},
   "outputs": [],
   "source": [
    "recommended_movie_df = model.recommendForAllUsers(5) #recommend 5 movies for all users "
   ]
  },
  {
   "cell_type": "code",
   "execution_count": 22,
   "id": "49a2cb7e",
   "metadata": {},
   "outputs": [
    {
     "name": "stdout",
     "output_type": "stream",
     "text": [
      "+-------+------+----------+--------------------+------+\n",
      "|MovieID|UserID|    Rating|               Title|Genres|\n",
      "+-------+------+----------+--------------------+------+\n",
      "|   3382|  1580|  0.985421|Song of Freedom (...| Drama|\n",
      "|   3382|  4900| 1.2948103|Song of Freedom (...| Drama|\n",
      "|   3382|  5300| 1.0974194|Song of Freedom (...| Drama|\n",
      "|   3382|   471| 0.9067986|Song of Freedom (...| Drama|\n",
      "|   3382|  1591| 1.4301045|Song of Freedom (...| Drama|\n",
      "|   3382|  4101| 1.4704807|Song of Freedom (...| Drama|\n",
      "|   3382|  1342| 1.1182377|Song of Freedom (...| Drama|\n",
      "|   3382|  2122| 1.0881228|Song of Freedom (...| Drama|\n",
      "|   3382|  2142| 1.1738149|Song of Freedom (...| Drama|\n",
      "|   3382|   463|0.72880965|Song of Freedom (...| Drama|\n",
      "|   3382|   833| 1.4198496|Song of Freedom (...| Drama|\n",
      "|   3382|  5803|0.72812986|Song of Freedom (...| Drama|\n",
      "|   3382|  3794|0.92622286|Song of Freedom (...| Drama|\n",
      "|   3382|  1645| 1.8548088|Song of Freedom (...| Drama|\n",
      "|   3382|  3175| 1.0355017|Song of Freedom (...| Drama|\n",
      "|   3382|   496|  1.753862|Song of Freedom (...| Drama|\n",
      "|   3382|  2366| 1.2680368|Song of Freedom (...| Drama|\n",
      "|   3382|  2866| 0.9745639|Song of Freedom (...| Drama|\n",
      "|   3382|  5156| 1.2837255|Song of Freedom (...| Drama|\n",
      "|   3382|  3997| 1.6175113|Song of Freedom (...| Drama|\n",
      "+-------+------+----------+--------------------+------+\n",
      "only showing top 20 rows\n",
      "\n"
     ]
    }
   ],
   "source": [
    "from pyspark.sql.functions import explode\n",
    "recommended_movie_df = recommended_movie_df\\\n",
    "    .withColumn(\"rec_exp\", explode(\"recommendations\"))\\\n",
    "    .select('UserID', col(\"rec_exp.MovieID\"), col(\"rec_exp.Rating\")) #format the recommendations column..explode out into MovieID and Rating\n",
    "\n",
    "theRecommendedMoviesDF = recommended_movie_df.join(moviesDF,['MovieID'],'left') #join the movies by Movie ID to see the titles\n",
    "\n",
    "theRecommendedMoviesDF.show()\n",
    "#get my personal ratings\n",
    "personalRatings = theRecommendedMoviesDF.filter(theRecommendedMoviesDF['UserID']==0).select(['MovieID', 'UserID','Title','Rating']).sort(col(\"Rating\").desc())"
   ]
  },
  {
   "cell_type": "code",
   "execution_count": 23,
   "id": "6380254e",
   "metadata": {},
   "outputs": [
    {
     "name": "stdout",
     "output_type": "stream",
     "text": [
      "Would you like to see movies Recommended for you (y/N)? y\n",
      "Movies Recommended for you:\n",
      "1: 'Song of Freedom (1936)'\n",
      "2: 'Foreign Student (1994)'\n",
      "3: 'Mamma Roma (1962)'\n",
      "4: 'Bells, The (1926)'\n",
      "5: 'Smashing Time (1967)'\n"
     ]
    }
   ],
   "source": [
    "import numpy as np\n",
    "\n",
    "#Finally would you like to see your recommended movies :)\n",
    "\n",
    "r = input(\"Would you like to see movies Recommended for you (y/N)? \")\n",
    "if r and r[0].lower() == \"y\":\n",
    "        # define a list\n",
    "        print(\"Movies Recommended for you:\")\n",
    "        List = np.array(personalRatings.select(\"Title\").collect())\n",
    "        i = 0\n",
    "        while i < len(List):\n",
    "            print(i+1, end = ': ')\n",
    "            print((str(List[i]).lstrip('[').rstrip(']')))\n",
    "            i = i+1\n",
    "else:\n",
    "        sys.exit()"
   ]
  },
  {
   "cell_type": "code",
   "execution_count": null,
   "id": "2a27f6b2",
   "metadata": {},
   "outputs": [],
   "source": [
    "sc.stop()"
   ]
  }
 ],
 "metadata": {
  "kernelspec": {
   "display_name": "Python 3",
   "language": "python",
   "name": "python3"
  },
  "language_info": {
   "codemirror_mode": {
    "name": "ipython",
    "version": 3
   },
   "file_extension": ".py",
   "mimetype": "text/x-python",
   "name": "python",
   "nbconvert_exporter": "python",
   "pygments_lexer": "ipython3",
   "version": "3.8.8"
  }
 },
 "nbformat": 4,
 "nbformat_minor": 5
}
